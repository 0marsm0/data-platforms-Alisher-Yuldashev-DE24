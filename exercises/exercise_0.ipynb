{
 "cells": [
  {
   "cell_type": "markdown",
   "metadata": {},
   "source": [
    "# Exercise 0"
   ]
  },
  {
   "cell_type": "markdown",
   "metadata": {},
   "source": [
    "## 0. User input for ETL Parameters"
   ]
  },
  {
   "cell_type": "code",
   "execution_count": 1,
   "metadata": {},
   "outputs": [
    {
     "name": "stdout",
     "output_type": "stream",
     "text": [
      "Source: /Desktop/DataEngineer/04.Data platforms/data-platforms-Alisher-Yuldashev-DE24/exercises/input_data.csv\n",
      "Destination: /Desktop/DataEngineer/04.Data platforms/data-platforms-Alisher-Yuldashev-DE24/exercises/output_data.csv\n"
     ]
    }
   ],
   "source": [
    "# /Desktop/DataEngineer/04.Data platforms/data-platforms-Alisher-Yuldashev-DE24/exercises/input_data.csv\n",
    "# /Desktop/DataEngineer/04.Data platforms/data-platforms-Alisher-Yuldashev-DE24/exercises/output_data.csv\n",
    "\n",
    "source = input('Enter the source path')\n",
    "destination = input('Enter your destination path')\n",
    "\n",
    "print(f\"Source: {source}\")\n",
    "print(f\"Destination: {destination}\")"
   ]
  },
  {
   "cell_type": "markdown",
   "metadata": {},
   "source": [
    "## 1. Schema validation\n",
    "- In order to maintain data quality, consistency and reliability, a system needs to validate that it conforms to certain predefined structure or format. This is called schema validation and you'll practice this in the following exercises."
   ]
  },
  {
   "cell_type": "markdown",
   "metadata": {},
   "source": [
    "#### a) Create a dictionary that look like this \n",
    "\n",
    "| Key       | Value |\n",
    "| --------- | ----- |\n",
    "| id        | 101   |\n",
    "| name      | Erika |\n",
    "| is_active | True  |\n",
    "| age       | 45    |"
   ]
  },
  {
   "cell_type": "code",
   "execution_count": 2,
   "metadata": {},
   "outputs": [
    {
     "data": {
      "text/plain": [
       "{'id': 101, 'name': 'Erika', 'is_active': True, 'age': 45}"
      ]
     },
     "execution_count": 2,
     "metadata": {},
     "output_type": "execute_result"
    }
   ],
   "source": [
    "person = dict(id = 101, name = 'Erika', is_active = True, age = 45)\n",
    "person"
   ]
  },
  {
   "cell_type": "markdown",
   "metadata": {},
   "source": [
    "#### b) Validate that the id is integer, name is string, is_active is boolean and age is integer. It should return true if valid and false if not valid."
   ]
  },
  {
   "cell_type": "code",
   "execution_count": 3,
   "metadata": {},
   "outputs": [
    {
     "data": {
      "text/plain": [
       "[True, True, True, True]"
      ]
     },
     "execution_count": 3,
     "metadata": {},
     "output_type": "execute_result"
    }
   ],
   "source": [
    "validate_schema = dict(id = int, name = str, is_active = bool, age = int)\n",
    "\n",
    "validation_list = []\n",
    "for key, data_type in validate_schema.items():\n",
    "    validation_list.append(isinstance(person[key], data_type))\n",
    "\n",
    "validation_list"
   ]
  },
  {
   "cell_type": "code",
   "execution_count": 4,
   "metadata": {},
   "outputs": [
    {
     "name": "stdout",
     "output_type": "stream",
     "text": [
      "Validation successful\n"
     ]
    }
   ],
   "source": [
    "def validate_person(person):\n",
    "    if isinstance(person['id'], int) and \\\n",
    "    isinstance(person['name'], str) and \\\n",
    "    isinstance(person['is_active'], bool) and \\\n",
    "    isinstance(person['age'], int):\n",
    "        return True\n",
    "    else:\n",
    "        return False\n",
    "    \n",
    "if validate_person(person):\n",
    "    print('Validation successful')\n",
    "else: \n",
    "    print('Validation failed')"
   ]
  },
  {
   "cell_type": "markdown",
   "metadata": {},
   "source": [
    "**alternative with comprehension**"
   ]
  },
  {
   "cell_type": "code",
   "execution_count": 5,
   "metadata": {},
   "outputs": [
    {
     "data": {
      "text/plain": [
       "True"
      ]
     },
     "execution_count": 5,
     "metadata": {},
     "output_type": "execute_result"
    }
   ],
   "source": [
    "person = dict(id = 101, name = 'Erika', is_active = True, age = 45)\n",
    "all([isinstance(person[key], data_type) for key, data_type in validate_schema.items()])"
   ]
  },
  {
   "cell_type": "code",
   "execution_count": 6,
   "metadata": {},
   "outputs": [
    {
     "data": {
      "text/plain": [
       "{'id': 101, 'name': 'Erika', 'is_active': True, 'age': 45}"
      ]
     },
     "execution_count": 6,
     "metadata": {},
     "output_type": "execute_result"
    }
   ],
   "source": [
    "person"
   ]
  },
  {
   "cell_type": "markdown",
   "metadata": {},
   "source": [
    "#### c) The dictionary created can be seen as one row, now lets create more records and store each record (dictionary) in a list.\n",
    "\n",
    "| id  | name   | is_active | age  |\n",
    "| --- | ------ | --------- | ---- |\n",
    "| 102 | Marcus | True      | 34   |\n",
    "| 103 | David  | False     | 29   |\n",
    "| 104 | Anna   | True      | 41.5 |\n",
    "| 106 | Ingrid | NOPE      | 8    |"
   ]
  },
  {
   "cell_type": "code",
   "execution_count": 7,
   "metadata": {},
   "outputs": [
    {
     "data": {
      "text/plain": [
       "[{'id': 101, 'name': 'Erika', 'is_active': True, 'age': 45},\n",
       " {'id': 102, 'name': 'Marcus', 'is_active': True, 'age': 34},\n",
       " {'id': 103, 'name': 'David', 'is_active': False, 'age': 29},\n",
       " {'id': 104, 'name': 'Anna', 'is_active': True, 'age': 41.5},\n",
       " {'id': 106, 'name': 'Ingrid', 'is_active': 'NOPE', 'age': 8}]"
      ]
     },
     "execution_count": 7,
     "metadata": {},
     "output_type": "execute_result"
    }
   ],
   "source": [
    "person_list = [\n",
    "    person,\n",
    "    dict(id = 102, name = \"Marcus\", is_active = True, age = 34),\n",
    "    dict(id = 103, name = \"David\", is_active = False, age = 29),\n",
    "    dict(id = 104, name = \"Anna\", is_active = True, age = 41.5),\n",
    "    dict(id = 106, name = \"Ingrid\", is_active = 'NOPE', age = 8)\n",
    "]\n",
    "person_list\n"
   ]
  },
  {
   "cell_type": "markdown",
   "metadata": {},
   "source": [
    "#### d) Do schema validation on the JSON array in part.c"
   ]
  },
  {
   "cell_type": "code",
   "execution_count": 8,
   "metadata": {},
   "outputs": [
    {
     "name": "stdout",
     "output_type": "stream",
     "text": [
      "User: 101 - validation successful\n",
      "User: 102 - validation successful\n",
      "User: 103 - validation successful\n",
      "User: 104 - validation failed\n",
      "User: 106 - validation failed\n"
     ]
    }
   ],
   "source": [
    "for person in person_list:\n",
    "    if all([isinstance(person[key], data_type) for key, data_type in validate_schema.items()]):\n",
    "        print(f\"User: {person['id']} - validation successful\")\n",
    "    else: \n",
    "        print(f\"User: {person['id']} - validation failed\")"
   ]
  },
  {
   "cell_type": "markdown",
   "metadata": {},
   "source": [
    "#### e)"
   ]
  },
  {
   "cell_type": "code",
   "execution_count": 43,
   "metadata": {},
   "outputs": [
    {
     "name": "stdout",
     "output_type": "stream",
     "text": [
      "User: 101 - validation successful\n",
      "User: 102 - validation successful\n",
      "User: 103 - validation successful\n",
      "User: 104 - validation failed\n",
      "User: 106 - validation failed\n"
     ]
    }
   ],
   "source": [
    "valid_list = []\n",
    "failed_list = []\n",
    "for person in person_list:\n",
    "    if validate_person(person):\n",
    "        valid_list.append(person)\n",
    "    else:\n",
    "        failed_list.append(person)\n",
    "\n",
    "for person in valid_list:\n",
    "    print(f\"User: {person['id']} - validation successful\")\n",
    "\n",
    "for person in failed_list:\n",
    "    print(f\"User: {person['id']} - validation failed\")"
   ]
  },
  {
   "cell_type": "markdown",
   "metadata": {},
   "source": [
    "## 2. Data quality check\n",
    "- Create a function that checks a list that it contains exactly ten elements, and none of them contains None. If they contain None, print out an error message that says that it is invalid and print out what a valid format should be."
   ]
  },
  {
   "cell_type": "code",
   "execution_count": 14,
   "metadata": {},
   "outputs": [],
   "source": [
    "list_without_none = list(range(10))\n",
    "list_with_none = list(range(9)) + [None]\n",
    "list_big = list(range(379))"
   ]
  },
  {
   "cell_type": "code",
   "execution_count": 9,
   "metadata": {},
   "outputs": [],
   "source": [
    "def check_list(list):\n",
    "    if len(list) != 10 or None in list:\n",
    "        raise ValueError(\n",
    "            f\"\"\"\n",
    "            Your list has to be exactly 10 elements and not contain None.\n",
    "            Length of your list is {len(list)}. None in list: {'Yes' if None in list else 'No'}\n",
    "            \"\"\"\n",
    "        )\n",
    "    print('Your list consists of 10 elements and has no None')"
   ]
  },
  {
   "cell_type": "code",
   "execution_count": 11,
   "metadata": {},
   "outputs": [
    {
     "name": "stdout",
     "output_type": "stream",
     "text": [
      "\n",
      "            Your list has to be exactly 10 elements and not contain None.\n",
      "            Length of your list is 379. None in list: No\n",
      "            \n"
     ]
    }
   ],
   "source": [
    "try:\n",
    "    check_list(list_big)\n",
    "except ValueError as err:\n",
    "    print(err)"
   ]
  },
  {
   "cell_type": "code",
   "execution_count": 54,
   "metadata": {},
   "outputs": [
    {
     "name": "stdout",
     "output_type": "stream",
     "text": [
      "\n",
      "            Your list has to be exactly 10 elements and not contain None.\n",
      "            Length of your list is 11. None in list: No\n",
      "            \n"
     ]
    }
   ],
   "source": [
    "try:\n",
    "    check_list(list_without_none)\n",
    "except ValueError as err:\n",
    "    print(err)"
   ]
  },
  {
   "cell_type": "code",
   "execution_count": 13,
   "metadata": {},
   "outputs": [
    {
     "name": "stdout",
     "output_type": "stream",
     "text": [
      "Your list consists of 10 elements and has no None\n"
     ]
    }
   ],
   "source": [
    "check_list(list_without_none)"
   ]
  },
  {
   "cell_type": "code",
   "execution_count": null,
   "metadata": {},
   "outputs": [],
   "source": []
  }
 ],
 "metadata": {
  "kernelspec": {
   "display_name": ".venv",
   "language": "python",
   "name": "python3"
  },
  "language_info": {
   "codemirror_mode": {
    "name": "ipython",
    "version": 3
   },
   "file_extension": ".py",
   "mimetype": "text/x-python",
   "name": "python",
   "nbconvert_exporter": "python",
   "pygments_lexer": "ipython3",
   "version": "3.11.8"
  }
 },
 "nbformat": 4,
 "nbformat_minor": 2
}
